{
 "cells": [
  {
   "cell_type": "code",
   "execution_count": null,
   "metadata": {},
   "outputs": [],
   "source": [
    "## FINETUNING LARGE LANGUAGE MODELS\n",
    "\n",
    "\n",
    "# Quantization\n",
    "# Calibration\n",
    "# Techniques of Quantization\n",
    "# Pretrained Quantization Training\n",
    "# "
   ]
  },
  {
   "cell_type": "code",
   "execution_count": null,
   "metadata": {},
   "outputs": [],
   "source": [
    "# 2 LORA AND QLORA\n",
    "# LORA -> LOW RANK ADAPTATION OF LLM\n",
    "# LORA -> Tracks the change of weights -> matrix decomposition based on rank \n",
    "# Rank Increases -> Parameter Increases\n",
    "\n",
    "# Fine Tuning Methods\n",
    "PrefixEmbed\n",
    "PrefixLayer\n",
    "Adapter\n",
    "LoRa"
   ]
  },
  {
   "cell_type": "code",
   "execution_count": null,
   "metadata": {},
   "outputs": [],
   "source": [
    "# When should use higher rank \n",
    "# if the model wants to learn complex things \n",
    "# as higher ranked model trains on . more no. of parameters than lower ranked model\n",
    "\n"
   ]
  },
  {
   "cell_type": "code",
   "execution_count": null,
   "metadata": {},
   "outputs": [],
   "source": [
    "# QLoRA -> Quantized LoRA \n",
    "\n"
   ]
  }
 ],
 "metadata": {
  "kernelspec": {
   "display_name": "Python 3",
   "language": "python",
   "name": "python3"
  },
  "language_info": {
   "name": "python",
   "version": "3.10.0"
  }
 },
 "nbformat": 4,
 "nbformat_minor": 2
}
